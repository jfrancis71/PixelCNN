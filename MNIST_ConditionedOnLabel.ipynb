{
 "cells": [
  {
   "cell_type": "code",
   "execution_count": 1,
   "id": "legendary-amplifier",
   "metadata": {},
   "outputs": [],
   "source": [
    "import matplotlib.pyplot as plt"
   ]
  },
  {
   "cell_type": "code",
   "execution_count": 2,
   "id": "welsh-imperial",
   "metadata": {},
   "outputs": [],
   "source": [
    "import torch\n",
    "import torch.nn as nn\n",
    "import torchvision\n",
    "import pytorch_lightning as pl"
   ]
  },
  {
   "cell_type": "code",
   "execution_count": 3,
   "id": "banned-racing",
   "metadata": {},
   "outputs": [],
   "source": [
    "import PixelCNN as pcnn"
   ]
  },
  {
   "cell_type": "code",
   "execution_count": 4,
   "id": "heavy-duration",
   "metadata": {},
   "outputs": [],
   "source": [
    "mnist_dataset = torchvision.datasets.MNIST(\n",
    "    root=\"/home/julian/ImageDataSets/MNIST\",\n",
    "    train = True,\n",
    "    transform = torchvision.transforms.Compose([\n",
    "        torchvision.transforms.ToTensor(),\n",
    "        torchvision.transforms.Lambda(lambda x: (x > 0.5).float()),\n",
    "    ]))"
   ]
  },
  {
   "cell_type": "code",
   "execution_count": 5,
   "id": "elder-laptop",
   "metadata": {},
   "outputs": [],
   "source": [
    "mnist_train, mnist_val = torch.utils.data.random_split(mnist_dataset, [55000, 5000])\n",
    "train_loader = torch.utils.data.DataLoader(mnist_train, batch_size=32)\n",
    "val_loader = torch.utils.data.DataLoader(mnist_val, batch_size=32)"
   ]
  },
  {
   "cell_type": "code",
   "execution_count": 6,
   "id": "alternative-thirty",
   "metadata": {},
   "outputs": [],
   "source": [
    "def sample():\n",
    "    sampl = torch.zeros( (1,1,28,28), device=\"cuda\")\n",
    "    h = nn.functional.one_hot(torch.randint(low=0,high=9,size=[1]),10).type(torch.float).to(\"cuda\")\n",
    "    for y in range(28):\n",
    "        for x in range(28):\n",
    "            params = mymodel.model(sampl, h)\n",
    "            sampl[0,0,y,x] = torch.distributions.Bernoulli(logits=params[0,0,y,x]).sample()\n",
    "    return sampl"
   ]
  },
  {
   "cell_type": "code",
   "execution_count": 7,
   "id": "played-horse",
   "metadata": {},
   "outputs": [],
   "source": [
    "class LitPixelCNN(pl.LightningModule):\n",
    "    def __init__(self):\n",
    "        super().__init__()\n",
    "        self.model = pcnn.PixelCNN(num_input_channels=1, num_distribution_params=1, num_h=10)\n",
    "\n",
    "    def configure_optimizers(self):\n",
    "        optimizer = torch.optim.Adam(self.parameters(), lr=1e-3)\n",
    "        return optimizer\n",
    "\n",
    "    def training_step(self, train_batch, batch_idx):\n",
    "        global mymodel\n",
    "        x, y = train_batch\n",
    "        h = nn.functional.one_hot(y,10).type(torch.float)\n",
    "        log_prob = torch.distributions.Independent(torch.distributions.Bernoulli(logits=self.model(x, h)), reinterpreted_batch_ndims=3).log_prob(x)\n",
    "        loss = -log_prob\n",
    "        mean_loss = torch.mean(loss)\n",
    "        self.log('train_loss', mean_loss)\n",
    "        return mean_loss\n",
    "\n",
    "    def validation_step(self, val_batch, batch_idx):\n",
    "        x, y = val_batch\n",
    "        h = nn.functional.one_hot(y,10).type(torch.float)\n",
    "        log_prob = torch.distributions.Independent(torch.distributions.Bernoulli(logits=self.model(x, h)), reinterpreted_batch_ndims=3).log_prob(x)\n",
    "        loss = -log_prob\n",
    "        mean_loss = torch.mean(loss)\n",
    "        self.log('val_loss', mean_loss)\n",
    "        \n",
    "    def validation_epoch_end(self, val_step_outputs):\n",
    "        imglist = [sample()[0] for _ in range(16)]\n",
    "        self.logger.experiment.add_image(\"my_image\", torchvision.utils.make_grid(imglist, padding=10, nrow=4), self.current_epoch, dataformats=\"CHW\")"
   ]
  },
  {
   "cell_type": "code",
   "execution_count": 8,
   "id": "derived-president",
   "metadata": {},
   "outputs": [],
   "source": [
    "mymodel = LitPixelCNN()"
   ]
  },
  {
   "cell_type": "code",
   "execution_count": 9,
   "id": "cosmetic-assets",
   "metadata": {},
   "outputs": [
    {
     "name": "stderr",
     "output_type": "stream",
     "text": [
      "GPU available: True, used: True\n",
      "TPU available: None, using: 0 TPU cores\n",
      "\n",
      "  | Name  | Type     | Params\n",
      "-----------------------------------\n",
      "0 | model | PixelCNN | 6.5 M \n",
      "-----------------------------------\n",
      "3.3 M     Trainable params\n",
      "3.2 M     Non-trainable params\n",
      "6.5 M     Total params\n",
      "26.032    Total estimated model params size (MB)\n",
      "/home/julian/anaconda3/envs/PixelCNN/lib/python3.8/site-packages/pytorch_lightning/utilities/distributed.py:50: UserWarning: The dataloader, val dataloader 0, does not have many workers which may be a bottleneck. Consider increasing the value of the `num_workers` argument` (try 8 which is the number of cpus on this machine) in the `DataLoader` init to improve performance.\n",
      "  warnings.warn(*args, **kwargs)\n",
      "/home/julian/anaconda3/envs/PixelCNN/lib/python3.8/site-packages/pytorch_lightning/utilities/distributed.py:50: UserWarning: The dataloader, train dataloader, does not have many workers which may be a bottleneck. Consider increasing the value of the `num_workers` argument` (try 8 which is the number of cpus on this machine) in the `DataLoader` init to improve performance.\n",
      "  warnings.warn(*args, **kwargs)\n"
     ]
    },
    {
     "data": {
      "text/plain": [
       "1"
      ]
     },
     "execution_count": 9,
     "metadata": {},
     "output_type": "execute_result"
    }
   ],
   "source": [
    "#Takes about 40 mins to run (on an RTX 2070)\n",
    "#Achieved validation score of 56.78\n",
    "pl.Trainer(gpus=1, max_epochs=10, progress_bar_refresh_rate=0).fit(mymodel, train_loader, val_loader)"
   ]
  },
  {
   "cell_type": "code",
   "execution_count": 10,
   "id": "attractive-triple",
   "metadata": {},
   "outputs": [],
   "source": [
    "mymodel.to(\"cuda\")\n",
    "imglist = [sample()[0] for _ in range(16)]"
   ]
  },
  {
   "cell_type": "code",
   "execution_count": 11,
   "id": "talented-julian",
   "metadata": {},
   "outputs": [
    {
     "data": {
      "text/plain": [
       "<matplotlib.image.AxesImage at 0x7ff7de2a0910>"
      ]
     },
     "execution_count": 11,
     "metadata": {},
     "output_type": "execute_result"
    },
    {
     "data": {
      "image/png": "[encoded data removed]",
      "text/plain": [
       "<Figure size 432x288 with 1 Axes>"
      ]
     },
     "metadata": {
      "needs_background": "light"
     },
     "output_type": "display_data"
    }
   ],
   "source": [
    "plt.imshow(torchvision.utils.make_grid(imglist, padding=10, nrow=4).permute((1,2,0)).cpu().detach())"
   ]
  },
  {
   "cell_type": "code",
   "execution_count": 12,
   "id": "robust-mountain",
   "metadata": {},
   "outputs": [],
   "source": [
    "def digit_sample(digit):\n",
    "    sampl = torch.zeros( (1,1,28,28), device=\"cuda\")\n",
    "    h = nn.functional.one_hot(torch.tensor(digit),10).type(torch.float).to(\"cuda\")\n",
    "    for y in range(28):\n",
    "        for x in range(28):\n",
    "            params = mymodel.model(sampl, h)\n",
    "            sampl[0,0,y,x] = torch.distributions.Bernoulli(logits=params[0,0,y,x]).sample()\n",
    "    return sampl"
   ]
  },
  {
   "cell_type": "code",
   "execution_count": 17,
   "id": "antique-neighbor",
   "metadata": {},
   "outputs": [],
   "source": [
    "mymodel.to(\"cuda\")\n",
    "imglist3 = [digit_sample(3)[0] for _ in range(16)]"
   ]
  },
  {
   "cell_type": "code",
   "execution_count": 18,
   "id": "electoral-addition",
   "metadata": {},
   "outputs": [
    {
     "data": {
      "text/plain": [
       "<matplotlib.image.AxesImage at 0x7ff7de056400>"
      ]
     },
     "execution_count": 18,
     "metadata": {},
     "output_type": "execute_result"
    },
    {
     "data": {
      "image/png": "[encoded data removed]",
      "text/plain": [
       "<Figure size 432x288 with 1 Axes>"
      ]
     },
     "metadata": {
      "needs_background": "light"
     },
     "output_type": "display_data"
    }
   ],
   "source": [
    "plt.imshow(torchvision.utils.make_grid(imglist3, padding=10, nrow=4).permute((1,2,0)).cpu().detach())"
   ]
  },
  {
   "cell_type": "code",
   "execution_count": 19,
   "id": "hourly-shareware",
   "metadata": {},
   "outputs": [],
   "source": [
    "mymodel.to(\"cuda\")\n",
    "imglist7 = [digit_sample(7)[0] for _ in range(16)]"
   ]
  },
  {
   "cell_type": "code",
   "execution_count": 20,
   "id": "nasty-designer",
   "metadata": {},
   "outputs": [
    {
     "data": {
      "text/plain": [
       "<matplotlib.image.AxesImage at 0x7ff7de0097c0>"
      ]
     },
     "execution_count": 20,
     "metadata": {},
     "output_type": "execute_result"
    },
    {
     "data": {
      "image/png": "[encoded data removed]",
      "text/plain": [
       "<Figure size 432x288 with 1 Axes>"
      ]
     },
     "metadata": {
      "needs_background": "light"
     },
     "output_type": "display_data"
    }
   ],
   "source": [
    "plt.imshow(torchvision.utils.make_grid(imglist7, padding=10, nrow=4).permute((1,2,0)).cpu().detach())"
   ]
  },
  {
   "cell_type": "code",
   "execution_count": null,
   "id": "instructional-engineering",
   "metadata": {},
   "outputs": [],
   "source": []
  }
 ],
 "metadata": {
  "kernelspec": {
   "display_name": "Python 3",
   "language": "python",
   "name": "python3"
  },
  "language_info": {
   "codemirror_mode": {
    "name": "ipython",
    "version": 3
   },
   "file_extension": ".py",
   "mimetype": "text/x-python",
   "name": "python",
   "nbconvert_exporter": "python",
   "pygments_lexer": "ipython3",
   "version": "3.8.5"
  }
 },
 "nbformat": 4,
 "nbformat_minor": 5
}
