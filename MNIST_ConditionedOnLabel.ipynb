{
 "cells": [
  {
   "cell_type": "code",
   "execution_count": 1,
   "id": "protecting-monte",
   "metadata": {},
   "outputs": [],
   "source": [
    "import matplotlib.pyplot as plt"
   ]
  },
  {
   "cell_type": "code",
   "execution_count": 2,
   "id": "plastic-sunday",
   "metadata": {},
   "outputs": [],
   "source": [
    "import torch\n",
    "import torch.nn as nn\n",
    "import torchvision\n",
    "import pytorch_lightning as pl"
   ]
  },
  {
   "cell_type": "code",
   "execution_count": 3,
   "id": "functional-repository",
   "metadata": {},
   "outputs": [],
   "source": [
    "import PixelCNN as pcnn"
   ]
  },
  {
   "cell_type": "code",
   "execution_count": 4,
   "id": "revised-interview",
   "metadata": {},
   "outputs": [],
   "source": [
    "mnist_dataset = torchvision.datasets.MNIST(\n",
    "    root=\"/home/julian/ImageDataSets/MNIST\",\n",
    "    train = True,\n",
    "    transform = torchvision.transforms.Compose([\n",
    "        torchvision.transforms.ToTensor(),\n",
    "        torchvision.transforms.Lambda(lambda x: (x > 0.5).float()),\n",
    "    ]))"
   ]
  },
  {
   "cell_type": "code",
   "execution_count": 5,
   "id": "familiar-woman",
   "metadata": {},
   "outputs": [],
   "source": [
    "mnist_train, mnist_val = torch.utils.data.random_split(mnist_dataset, [55000, 5000])\n",
    "train_loader = torch.utils.data.DataLoader(mnist_train, batch_size=32)\n",
    "val_loader = torch.utils.data.DataLoader(mnist_val, batch_size=32)"
   ]
  },
  {
   "cell_type": "code",
   "execution_count": 6,
   "id": "ideal-excess",
   "metadata": {},
   "outputs": [],
   "source": [
    "def sample():\n",
    "    sampl = torch.zeros( (1,1,28,28), device=\"cuda\")\n",
    "    h = nn.functional.one_hot(torch.randint(low=0,high=9,size=[1]),10).type(torch.float).to(\"cuda\")\n",
    "    for y in range(28):\n",
    "        for x in range(28):\n",
    "            params = mymodel.model(sampl, h)\n",
    "            sampl[0,0,y,x] = torch.distributions.Bernoulli(logits=params[0,0,y,x]).sample()\n",
    "    return sampl"
   ]
  },
  {
   "cell_type": "code",
   "execution_count": 7,
   "id": "black-spank",
   "metadata": {},
   "outputs": [],
   "source": [
    "class LitPixelCNN(pl.LightningModule):\n",
    "    def __init__(self):\n",
    "        super().__init__()\n",
    "        self.model = pcnn.PixelCNN(num_input_channels=1, kernel_size=5, num_distribution_params=1, num_conditional_channels=10)\n",
    "\n",
    "    def configure_optimizers(self):\n",
    "        optimizer = torch.optim.Adam(self.parameters(), lr=1e-3)\n",
    "        return optimizer\n",
    "\n",
    "    def training_step(self, train_batch, batch_idx):\n",
    "        global mymodel\n",
    "        x, y = train_batch\n",
    "        h = nn.functional.one_hot(y,10).type(torch.float)\n",
    "        log_prob = torch.distributions.Independent(torch.distributions.Bernoulli(logits=self.model(x, h)), reinterpreted_batch_ndims=3).log_prob(x)\n",
    "        loss = -log_prob\n",
    "        mean_loss = torch.mean(loss)\n",
    "        self.log('train_loss', mean_loss)\n",
    "        return mean_loss\n",
    "\n",
    "    def validation_step(self, val_batch, batch_idx):\n",
    "        x, y = val_batch\n",
    "        h = nn.functional.one_hot(y,10).type(torch.float)\n",
    "        log_prob = torch.distributions.Independent(torch.distributions.Bernoulli(logits=self.model(x, h)), reinterpreted_batch_ndims=3).log_prob(x)\n",
    "        loss = -log_prob\n",
    "        mean_loss = torch.mean(loss)\n",
    "        self.log('val_loss', mean_loss)\n",
    "        \n",
    "    def validation_epoch_end(self, val_step_outputs):\n",
    "        imglist = [sample()[0] for _ in range(16)]\n",
    "        self.logger.experiment.add_image(\"my_image\", torchvision.utils.make_grid(imglist, padding=10, nrow=4), self.current_epoch, dataformats=\"CHW\")"
   ]
  },
  {
   "cell_type": "code",
   "execution_count": 8,
   "id": "third-intro",
   "metadata": {},
   "outputs": [],
   "source": [
    "mymodel = LitPixelCNN()"
   ]
  },
  {
   "cell_type": "code",
   "execution_count": 9,
   "id": "interpreted-international",
   "metadata": {},
   "outputs": [
    {
     "name": "stderr",
     "output_type": "stream",
     "text": [
      "GPU available: True, used: True\n",
      "TPU available: None, using: 0 TPU cores\n",
      "\n",
      "  | Name  | Type     | Params\n",
      "-----------------------------------\n",
      "0 | model | PixelCNN | 5.8 M \n",
      "-----------------------------------\n",
      "2.9 M     Trainable params\n",
      "2.9 M     Non-trainable params\n",
      "5.8 M     Total params\n",
      "23.029    Total estimated model params size (MB)\n",
      "/home/julian/anaconda3/envs/PixelCNN/lib/python3.8/site-packages/pytorch_lightning/utilities/distributed.py:50: UserWarning: The dataloader, val dataloader 0, does not have many workers which may be a bottleneck. Consider increasing the value of the `num_workers` argument` (try 8 which is the number of cpus on this machine) in the `DataLoader` init to improve performance.\n",
      "  warnings.warn(*args, **kwargs)\n",
      "/home/julian/anaconda3/envs/PixelCNN/lib/python3.8/site-packages/pytorch_lightning/utilities/distributed.py:50: UserWarning: The dataloader, train dataloader, does not have many workers which may be a bottleneck. Consider increasing the value of the `num_workers` argument` (try 8 which is the number of cpus on this machine) in the `DataLoader` init to improve performance.\n",
      "  warnings.warn(*args, **kwargs)\n"
     ]
    },
    {
     "data": {
      "text/plain": [
       "1"
      ]
     },
     "execution_count": 9,
     "metadata": {},
     "output_type": "execute_result"
    }
   ],
   "source": [
    "#Takes about 14 mins to run (on an RTX 2070)\n",
    "#Achieved validation score of 57.99\n",
    "pl.Trainer(gpus=1, max_epochs=10, progress_bar_refresh_rate=0).fit(mymodel, train_loader, val_loader)"
   ]
  },
  {
   "cell_type": "code",
   "execution_count": 10,
   "id": "modern-current",
   "metadata": {},
   "outputs": [],
   "source": [
    "mymodel.to(\"cuda\")\n",
    "imglist = [sample()[0] for _ in range(16)]"
   ]
  },
  {
   "cell_type": "code",
   "execution_count": 11,
   "id": "virtual-salad",
   "metadata": {},
   "outputs": [
    {
     "data": {
      "text/plain": [
       "<matplotlib.image.AxesImage at 0x7f87b9cb71f0>"
      ]
     },
     "execution_count": 11,
     "metadata": {},
     "output_type": "execute_result"
    },
    {
     "data": {
      "image/png": "[encoded data removed]",
      "text/plain": [
       "<Figure size 432x288 with 1 Axes>"
      ]
     },
     "metadata": {
      "needs_background": "light"
     },
     "output_type": "display_data"
    }
   ],
   "source": [
    "plt.imshow(torchvision.utils.make_grid(imglist, padding=10, nrow=4).permute((1,2,0)).cpu().detach())"
   ]
  },
  {
   "cell_type": "code",
   "execution_count": 12,
   "id": "listed-worse",
   "metadata": {},
   "outputs": [],
   "source": [
    "def digit_sample(digit):\n",
    "    sampl = torch.zeros( (1,1,28,28), device=\"cuda\")\n",
    "    h = nn.functional.one_hot(torch.tensor(digit),10).type(torch.float).to(\"cuda\")\n",
    "    for y in range(28):\n",
    "        for x in range(28):\n",
    "            params = mymodel.model(sampl, h)\n",
    "            sampl[0,0,y,x] = torch.distributions.Bernoulli(logits=params[0,0,y,x]).sample()\n",
    "    return sampl"
   ]
  },
  {
   "cell_type": "code",
   "execution_count": 13,
   "id": "statistical-movie",
   "metadata": {},
   "outputs": [],
   "source": [
    "mymodel.to(\"cuda\")\n",
    "imglist = [digit_sample(3)[0] for _ in range(16)]"
   ]
  },
  {
   "cell_type": "code",
   "execution_count": 14,
   "id": "original-trial",
   "metadata": {},
   "outputs": [
    {
     "data": {
      "text/plain": [
       "<matplotlib.image.AxesImage at 0x7f87b9a395b0>"
      ]
     },
     "execution_count": 14,
     "metadata": {},
     "output_type": "execute_result"
    },
    {
     "data": {
      "image/png": "[encoded data removed]",
      "text/plain": [
       "<Figure size 432x288 with 1 Axes>"
      ]
     },
     "metadata": {
      "needs_background": "light"
     },
     "output_type": "display_data"
    }
   ],
   "source": [
    "plt.imshow(torchvision.utils.make_grid(imglist, padding=10, nrow=4).permute((1,2,0)).cpu().detach())"
   ]
  },
  {
   "cell_type": "code",
   "execution_count": 15,
   "id": "medical-score",
   "metadata": {},
   "outputs": [],
   "source": [
    "mymodel.to(\"cuda\")\n",
    "imglist = [digit_sample(7)[0] for _ in range(16)]"
   ]
  },
  {
   "cell_type": "code",
   "execution_count": 16,
   "id": "recorded-socket",
   "metadata": {},
   "outputs": [
    {
     "data": {
      "text/plain": [
       "<matplotlib.image.AxesImage at 0x7f87b99d2220>"
      ]
     },
     "execution_count": 16,
     "metadata": {},
     "output_type": "execute_result"
    },
    {
     "data": {
      "image/png": "[encoded data removed]",
      "text/plain": [
       "<Figure size 432x288 with 1 Axes>"
      ]
     },
     "metadata": {
      "needs_background": "light"
     },
     "output_type": "display_data"
    }
   ],
   "source": [
    "plt.imshow(torchvision.utils.make_grid(imglist, padding=10, nrow=4).permute((1,2,0)).cpu().detach())"
   ]
  }
 ],
 "metadata": {
  "kernelspec": {
   "display_name": "Python 3",
   "language": "python",
   "name": "python3"
  },
  "language_info": {
   "codemirror_mode": {
    "name": "ipython",
    "version": 3
   },
   "file_extension": ".py",
   "mimetype": "text/x-python",
   "name": "python",
   "nbconvert_exporter": "python",
   "pygments_lexer": "ipython3",
   "version": "3.8.5"
  }
 },
 "nbformat": 4,
 "nbformat_minor": 5
}
